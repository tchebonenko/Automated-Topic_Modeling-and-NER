{
 "cells": [
  {
   "cell_type": "markdown",
   "metadata": {},
   "source": [
    "# Load dependancies"
   ]
  },
  {
   "cell_type": "code",
   "execution_count": 2,
   "metadata": {},
   "outputs": [
    {
     "name": "stderr",
     "output_type": "stream",
     "text": [
      "/Users/tatiana/opt/anaconda3/lib/python3.7/site-packages/spacy/util.py:275: UserWarning: [W031] Model 'en_core_web_sm' (2.2.0) requires spaCy v2.2 and is incompatible with the current spaCy version (2.3.5). This may lead to unexpected results or runtime errors. To resolve this, download a newer compatible model or retrain your custom model with the current spaCy version. For more details and available updates, run: python -m spacy validate\n",
      "  warnings.warn(warn_msg)\n",
      "/Users/tatiana/opt/anaconda3/lib/python3.7/site-packages/spacy/util.py:275: UserWarning: [W031] Model 'en_core_web_sm' (2.2.0) requires spaCy v2.2 and is incompatible with the current spaCy version (2.3.5). This may lead to unexpected results or runtime errors. To resolve this, download a newer compatible model or retrain your custom model with the current spaCy version. For more details and available updates, run: python -m spacy validate\n",
      "  warnings.warn(warn_msg)\n",
      "INFO:absl:Using /var/folders/96/lvl2l9k91mqbyk2328hjtzg40000gn/T/tfhub_modules to cache modules.\n"
     ]
    }
   ],
   "source": [
    "%matplotlib inline \n",
    "\n",
    "# import numpy as np\n",
    "# import torch\n",
    "# from pydantic import BaseModel\n",
    "# from transformers import (\n",
    "#     BertForTokenClassification,\n",
    "#     BertTokenizer\n",
    "# )\n",
    "\n",
    "import spacy\n",
    "nlp = spacy.load(\"en_core_web_sm\")\n",
    "\n",
    "import topic_modeling as tm"
   ]
  },
  {
   "cell_type": "code",
   "execution_count": 3,
   "metadata": {},
   "outputs": [
    {
     "data": {
      "text/plain": [
       "'\\nCNNA new poll finds that many Americans are not optimistic about what the GOP health care bill will do to their coverage.   Although President Donald Trump and Republicans in Congress promise that their plan will cover more people and cost less, nearly half of Americans dont believe it, according to a Kaiser Family Foundation poll released Wednesday.   And while many Republicans are confident that defunding Planned Parenthood is the right move, the greater majority oppose that idea, it says. This is the latest poll on the legislation from the nonpartisan Kaiser Family Foundation.   The organization polled Americans from March 612, before the nonpartisan Congressional Budget Office released an estimate Monday predicting that  unlike Obamacare, which brought the uninsured rate to an alltime low  the GOP bill will send the countrys uninsured rate higher than before the Affordable Care Act.   That change could be immediate for 14 million Americans who could become uninsured next year, according to the report. Of the more than 1,200 nationally representative random Americans polled, Kaiser found that 48 think the GOP plan will cover fewer people, compared with the one in five who said the bill would increase coverage.   Trump and congressional Republicans have vowed to lower costs with their health care plans, but nearly half 48 of Americans polled think the bill will increase costs for people who buy their own insurance, while 23 think it will lower costs.   The thinking falls along p\\n'"
      ]
     },
     "execution_count": 3,
     "metadata": {},
     "output_type": "execute_result"
    }
   ],
   "source": [
    "text = \"\"\"\n",
    "CNNA new poll finds that many Americans are not optimistic about what the GOP health care bill will do to their coverage.   Although President Donald Trump and Republicans in Congress promise that their plan will cover more people and cost less, nearly half of Americans dont believe it, according to a Kaiser Family Foundation poll released Wednesday.   And while many Republicans are confident that defunding Planned Parenthood is the right move, the greater majority oppose that idea, it says. This is the latest poll on the legislation from the nonpartisan Kaiser Family Foundation.   The organization polled Americans from March 612, before the nonpartisan Congressional Budget Office released an estimate Monday predicting that  unlike Obamacare, which brought the uninsured rate to an alltime low  the GOP bill will send the countrys uninsured rate higher than before the Affordable Care Act.   That change could be immediate for 14 million Americans who could become uninsured next year, according to the report. Of the more than 1,200 nationally representative random Americans polled, Kaiser found that 48 think the GOP plan will cover fewer people, compared with the one in five who said the bill would increase coverage.   Trump and congressional Republicans have vowed to lower costs with their health care plans, but nearly half 48 of Americans polled think the bill will increase costs for people who buy their own insurance, while 23 think it will lower costs.   The thinking falls along p\n",
    "\"\"\"\n",
    "text"
   ]
  },
  {
   "cell_type": "code",
   "execution_count": 3,
   "metadata": {},
   "outputs": [],
   "source": [
    "model_path = \"/Users/tatiana/Desktop/tmp/Learning/-- ForthBrain --/-- Project --/app/application/ner_models/bert_ner_model.bin\""
   ]
  },
  {
   "cell_type": "code",
   "execution_count": 5,
   "metadata": {},
   "outputs": [
    {
     "name": "stderr",
     "output_type": "stream",
     "text": [
      "Some weights of the model checkpoint at bert-base-cased were not used when initializing BertForTokenClassification: ['cls.predictions.bias', 'cls.predictions.transform.dense.weight', 'cls.predictions.transform.dense.bias', 'cls.predictions.decoder.weight', 'cls.seq_relationship.weight', 'cls.seq_relationship.bias', 'cls.predictions.transform.LayerNorm.weight', 'cls.predictions.transform.LayerNorm.bias']\n",
      "- This IS expected if you are initializing BertForTokenClassification from the checkpoint of a model trained on another task or with another architecture (e.g. initializing a BertForSequenceClassification model from a BertForPreTraining model).\n",
      "- This IS NOT expected if you are initializing BertForTokenClassification from the checkpoint of a model that you expect to be exactly identical (initializing a BertForSequenceClassification model from a BertForSequenceClassification model).\n",
      "Some weights of BertForTokenClassification were not initialized from the model checkpoint at bert-base-cased and are newly initialized: ['classifier.weight', 'classifier.bias']\n",
      "You should probably TRAIN this model on a down-stream task to be able to use it for predictions and inference.\n"
     ]
    },
    {
     "data": {
      "text/plain": [
       "{'Names': ['Trump', 'President Donald Trump', 'Kaiser'],\n",
       " 'Places': [],\n",
       " 'Organisations': ['Congress',\n",
       "  'Affordable Care Act',\n",
       "  'GOP',\n",
       "  'Obamacare',\n",
       "  'Congressional Budget Office',\n",
       "  'CNNA',\n",
       "  'Kaiser Family Foundation',\n",
       "  'Planned']}"
      ]
     },
     "execution_count": 5,
     "metadata": {},
     "output_type": "execute_result"
    }
   ],
   "source": [
    "tm.get_all_named_entities(text, model_path)"
   ]
  }
 ],
 "metadata": {
  "kernelspec": {
   "display_name": "Python 3",
   "language": "python",
   "name": "python3"
  },
  "language_info": {
   "codemirror_mode": {
    "name": "ipython",
    "version": 3
   },
   "file_extension": ".py",
   "mimetype": "text/x-python",
   "name": "python",
   "nbconvert_exporter": "python",
   "pygments_lexer": "ipython3",
   "version": "3.7.4"
  },
  "toc": {
   "base_numbering": 1,
   "nav_menu": {},
   "number_sections": true,
   "sideBar": true,
   "skip_h1_title": false,
   "title_cell": "Table of Contents",
   "title_sidebar": "Contents",
   "toc_cell": false,
   "toc_position": {
    "height": "calc(100% - 180px)",
    "left": "10px",
    "top": "150px",
    "width": "250px"
   },
   "toc_section_display": true,
   "toc_window_display": true
  }
 },
 "nbformat": 4,
 "nbformat_minor": 2
}
