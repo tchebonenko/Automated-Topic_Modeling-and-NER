{
 "cells": [
  {
   "cell_type": "markdown",
   "metadata": {},
   "source": [
    "# Load data and python libraries"
   ]
  },
  {
   "cell_type": "code",
   "execution_count": 1,
   "metadata": {},
   "outputs": [],
   "source": [
    "# make plot s appear after the code cell\n",
    "%matplotlib inline \n",
    "\n",
    "# data processing libraries\n",
    "import pandas as pd\n",
    "\n",
    "# display wider columns in pandas data frames where necessary\n",
    "pd.set_option('max_colwidth',150)\n",
    "\n",
    "# data visualization libraries\n",
    "import matplotlib.pyplot as plt\n",
    "import seaborn as sns\n",
    "\n",
    "#detect language\n",
    "from langdetect import detect\n",
    "\n",
    "# supporting libraries\n",
    "import re\n",
    "import pickle"
   ]
  },
  {
   "cell_type": "code",
   "execution_count": 2,
   "metadata": {},
   "outputs": [],
   "source": [
    "# file location of the data\n",
    "input_folder = './data/'\n",
    "output_folder = './transition_files/'\n",
    "\n",
    "file_name = 'all-the-news-2-1.csv'"
   ]
  },
  {
   "cell_type": "code",
   "execution_count": 3,
   "metadata": {},
   "outputs": [
    {
     "name": "stderr",
     "output_type": "stream",
     "text": [
      "/Users/tatiana/opt/anaconda3/lib/python3.7/site-packages/IPython/core/interactiveshell.py:3072: DtypeWarning: Columns (1,3,5) have mixed types.Specify dtype option on import or set low_memory=False.\n",
      "  interactivity=interactivity, compiler=compiler, result=result)\n"
     ]
    },
    {
     "name": "stdout",
     "output_type": "stream",
     "text": [
      "(2688879, 12)\n"
     ]
    },
    {
     "data": {
      "text/html": [
       "<div>\n",
       "<style scoped>\n",
       "    .dataframe tbody tr th:only-of-type {\n",
       "        vertical-align: middle;\n",
       "    }\n",
       "\n",
       "    .dataframe tbody tr th {\n",
       "        vertical-align: top;\n",
       "    }\n",
       "\n",
       "    .dataframe thead th {\n",
       "        text-align: right;\n",
       "    }\n",
       "</style>\n",
       "<table border=\"1\" class=\"dataframe\">\n",
       "  <thead>\n",
       "    <tr style=\"text-align: right;\">\n",
       "      <th></th>\n",
       "      <th>0</th>\n",
       "    </tr>\n",
       "  </thead>\n",
       "  <tbody>\n",
       "    <tr>\n",
       "      <th>Unnamed: 0</th>\n",
       "      <td>0</td>\n",
       "    </tr>\n",
       "    <tr>\n",
       "      <th>Unnamed: 0.1</th>\n",
       "      <td>0</td>\n",
       "    </tr>\n",
       "    <tr>\n",
       "      <th>date</th>\n",
       "      <td>2016-12-09 18:31:00</td>\n",
       "    </tr>\n",
       "    <tr>\n",
       "      <th>year</th>\n",
       "      <td>2016</td>\n",
       "    </tr>\n",
       "    <tr>\n",
       "      <th>month</th>\n",
       "      <td>12</td>\n",
       "    </tr>\n",
       "    <tr>\n",
       "      <th>day</th>\n",
       "      <td>9</td>\n",
       "    </tr>\n",
       "    <tr>\n",
       "      <th>author</th>\n",
       "      <td>Lee Drutman</td>\n",
       "    </tr>\n",
       "    <tr>\n",
       "      <th>title</th>\n",
       "      <td>We should take concerns about the health of liberal democracy seriously</td>\n",
       "    </tr>\n",
       "    <tr>\n",
       "      <th>article</th>\n",
       "      <td>This post is part of Polyarchy, an independent blog produced by the political reform program at New America, a Washington think tank devoted to de...</td>\n",
       "    </tr>\n",
       "    <tr>\n",
       "      <th>url</th>\n",
       "      <td>https://www.vox.com/polyarchy/2016/12/9/13898340/democracy-warning-signs</td>\n",
       "    </tr>\n",
       "    <tr>\n",
       "      <th>section</th>\n",
       "      <td>NaN</td>\n",
       "    </tr>\n",
       "    <tr>\n",
       "      <th>publication</th>\n",
       "      <td>Vox</td>\n",
       "    </tr>\n",
       "  </tbody>\n",
       "</table>\n",
       "</div>"
      ],
      "text/plain": [
       "                                                                                                                                                                  0\n",
       "Unnamed: 0                                                                                                                                                        0\n",
       "Unnamed: 0.1                                                                                                                                                      0\n",
       "date                                                                                                                                            2016-12-09 18:31:00\n",
       "year                                                                                                                                                           2016\n",
       "month                                                                                                                                                            12\n",
       "day                                                                                                                                                               9\n",
       "author                                                                                                                                                  Lee Drutman\n",
       "title                                                                                       We should take concerns about the health of liberal democracy seriously\n",
       "article       This post is part of Polyarchy, an independent blog produced by the political reform program at New America, a Washington think tank devoted to de...\n",
       "url                                                                                        https://www.vox.com/polyarchy/2016/12/9/13898340/democracy-warning-signs\n",
       "section                                                                                                                                                         NaN\n",
       "publication                                                                                                                                                     Vox"
      ]
     },
     "execution_count": 3,
     "metadata": {},
     "output_type": "execute_result"
    }
   ],
   "source": [
    "# load data\n",
    "df_data = pd.read_csv(input_folder + file_name, #file location\n",
    "                      encoding = \"ISO-8859-1\", #deal with texts in different formats\n",
    "                     )\n",
    "\n",
    "# display first row of the data frame\n",
    "print(df_data.shape)\n",
    "df_data.head(1).T"
   ]
  },
  {
   "cell_type": "markdown",
   "metadata": {},
   "source": [
    "# Data Exploration and Cleaning"
   ]
  },
  {
   "cell_type": "code",
   "execution_count": 4,
   "metadata": {},
   "outputs": [],
   "source": [
    "def check_data (df):\n",
    "    \"\"\"\n",
    "    check data types of values in the pandas data frame and number of missing values\n",
    "    \n",
    "    input:\n",
    "        df - as pandas data frame to analyze\n",
    "    \n",
    "    output:\n",
    "        pandas data frame with column name, \n",
    "                                column data type, \n",
    "                                the data type of actual value in the column\n",
    "                                number of missing values\n",
    "                                value example\n",
    "    \"\"\"\n",
    "    df_data_types = []\n",
    "    actual_data_types = []\n",
    "    num_missing = []\n",
    "    values = []\n",
    "    columns = list(df_data.columns)\n",
    "    \n",
    "    for column in df_data.columns:\n",
    "        #selecting only non missing values in the column\n",
    "        df_tmp = df[df[column].isnull() == False]\n",
    "        \n",
    "        #count number of missing values\n",
    "        num_missing.append(len(df) - len(df_tmp))\n",
    "        \n",
    "        #getting column data type\n",
    "        dtype = str(df_tmp[column].dtypes)\n",
    "        df_data_types.append(dtype)\n",
    "                \n",
    "        #getting data type of an actual value\n",
    "        actual_value = df_tmp[column].iloc[0]\n",
    "        m = re.search(\"'.+'\", str(type(actual_value)))\n",
    "        if m:\n",
    "            dtype = m.group(0)\n",
    "        else:\n",
    "            dtype =  ''   \n",
    "        actual_data_types.append(dtype)\n",
    "        values.append(actual_value)\n",
    "        \n",
    "    #create data frame with data types comparison\n",
    "    df_result = pd.DataFrame({\n",
    "                              'data type': df_data_types,\n",
    "                              'actual data type': actual_data_types,\n",
    "                              'number of missing values': num_missing,\n",
    "                              '% of missing values': [round(n / len(df) * 100,2) for n in num_missing],\n",
    "                              'value example': values\n",
    "                             }, index=columns)\n",
    "    return df_result"
   ]
  },
  {
   "cell_type": "code",
   "execution_count": 5,
   "metadata": {},
   "outputs": [
    {
     "name": "stdout",
     "output_type": "stream",
     "text": [
      "datatype = \"object\" means the column has string and/or missing values in it.\n"
     ]
    },
    {
     "data": {
      "text/html": [
       "<div>\n",
       "<style scoped>\n",
       "    .dataframe tbody tr th:only-of-type {\n",
       "        vertical-align: middle;\n",
       "    }\n",
       "\n",
       "    .dataframe tbody tr th {\n",
       "        vertical-align: top;\n",
       "    }\n",
       "\n",
       "    .dataframe thead th {\n",
       "        text-align: right;\n",
       "    }\n",
       "</style>\n",
       "<table border=\"1\" class=\"dataframe\">\n",
       "  <thead>\n",
       "    <tr style=\"text-align: right;\">\n",
       "      <th></th>\n",
       "      <th>data type</th>\n",
       "      <th>actual data type</th>\n",
       "      <th>number of missing values</th>\n",
       "      <th>% of missing values</th>\n",
       "      <th>value example</th>\n",
       "    </tr>\n",
       "  </thead>\n",
       "  <tbody>\n",
       "    <tr>\n",
       "      <th>Unnamed: 0</th>\n",
       "      <td>int64</td>\n",
       "      <td>'numpy.int64'</td>\n",
       "      <td>0</td>\n",
       "      <td>0.00</td>\n",
       "      <td>0</td>\n",
       "    </tr>\n",
       "    <tr>\n",
       "      <th>Unnamed: 0.1</th>\n",
       "      <td>object</td>\n",
       "      <td>'int'</td>\n",
       "      <td>0</td>\n",
       "      <td>0.00</td>\n",
       "      <td>0</td>\n",
       "    </tr>\n",
       "    <tr>\n",
       "      <th>date</th>\n",
       "      <td>object</td>\n",
       "      <td>'str'</td>\n",
       "      <td>1</td>\n",
       "      <td>0.00</td>\n",
       "      <td>2016-12-09 18:31:00</td>\n",
       "    </tr>\n",
       "    <tr>\n",
       "      <th>year</th>\n",
       "      <td>object</td>\n",
       "      <td>'int'</td>\n",
       "      <td>0</td>\n",
       "      <td>0.00</td>\n",
       "      <td>2016</td>\n",
       "    </tr>\n",
       "    <tr>\n",
       "      <th>month</th>\n",
       "      <td>float64</td>\n",
       "      <td>'numpy.float64'</td>\n",
       "      <td>1</td>\n",
       "      <td>0.00</td>\n",
       "      <td>12</td>\n",
       "    </tr>\n",
       "    <tr>\n",
       "      <th>day</th>\n",
       "      <td>object</td>\n",
       "      <td>'int'</td>\n",
       "      <td>0</td>\n",
       "      <td>0.00</td>\n",
       "      <td>9</td>\n",
       "    </tr>\n",
       "    <tr>\n",
       "      <th>author</th>\n",
       "      <td>object</td>\n",
       "      <td>'str'</td>\n",
       "      <td>1021102</td>\n",
       "      <td>37.98</td>\n",
       "      <td>Lee Drutman</td>\n",
       "    </tr>\n",
       "    <tr>\n",
       "      <th>title</th>\n",
       "      <td>object</td>\n",
       "      <td>'str'</td>\n",
       "      <td>38</td>\n",
       "      <td>0.00</td>\n",
       "      <td>We should take concerns about the health of liberal democracy seriously</td>\n",
       "    </tr>\n",
       "    <tr>\n",
       "      <th>article</th>\n",
       "      <td>object</td>\n",
       "      <td>'str'</td>\n",
       "      <td>104714</td>\n",
       "      <td>3.89</td>\n",
       "      <td>This post is part of Polyarchy, an independent blog produced by the political reform program at New America, a Washington think tank devoted to de...</td>\n",
       "    </tr>\n",
       "    <tr>\n",
       "      <th>url</th>\n",
       "      <td>object</td>\n",
       "      <td>'str'</td>\n",
       "      <td>12578</td>\n",
       "      <td>0.47</td>\n",
       "      <td>https://www.vox.com/polyarchy/2016/12/9/13898340/democracy-warning-signs</td>\n",
       "    </tr>\n",
       "    <tr>\n",
       "      <th>section</th>\n",
       "      <td>object</td>\n",
       "      <td>'str'</td>\n",
       "      <td>912274</td>\n",
       "      <td>33.93</td>\n",
       "      <td>Davos</td>\n",
       "    </tr>\n",
       "    <tr>\n",
       "      <th>publication</th>\n",
       "      <td>object</td>\n",
       "      <td>'str'</td>\n",
       "      <td>12578</td>\n",
       "      <td>0.47</td>\n",
       "      <td>Vox</td>\n",
       "    </tr>\n",
       "  </tbody>\n",
       "</table>\n",
       "</div>"
      ],
      "text/plain": [
       "             data type actual data type  number of missing values  \\\n",
       "Unnamed: 0       int64    'numpy.int64'                         0   \n",
       "Unnamed: 0.1    object            'int'                         0   \n",
       "date            object            'str'                         1   \n",
       "year            object            'int'                         0   \n",
       "month          float64  'numpy.float64'                         1   \n",
       "day             object            'int'                         0   \n",
       "author          object            'str'                   1021102   \n",
       "title           object            'str'                        38   \n",
       "article         object            'str'                    104714   \n",
       "url             object            'str'                     12578   \n",
       "section         object            'str'                    912274   \n",
       "publication     object            'str'                     12578   \n",
       "\n",
       "              % of missing values  \\\n",
       "Unnamed: 0                   0.00   \n",
       "Unnamed: 0.1                 0.00   \n",
       "date                         0.00   \n",
       "year                         0.00   \n",
       "month                        0.00   \n",
       "day                          0.00   \n",
       "author                      37.98   \n",
       "title                        0.00   \n",
       "article                      3.89   \n",
       "url                          0.47   \n",
       "section                     33.93   \n",
       "publication                  0.47   \n",
       "\n",
       "                                                                                                                                                      value example  \n",
       "Unnamed: 0                                                                                                                                                        0  \n",
       "Unnamed: 0.1                                                                                                                                                      0  \n",
       "date                                                                                                                                            2016-12-09 18:31:00  \n",
       "year                                                                                                                                                           2016  \n",
       "month                                                                                                                                                            12  \n",
       "day                                                                                                                                                               9  \n",
       "author                                                                                                                                                  Lee Drutman  \n",
       "title                                                                                       We should take concerns about the health of liberal democracy seriously  \n",
       "article       This post is part of Polyarchy, an independent blog produced by the political reform program at New America, a Washington think tank devoted to de...  \n",
       "url                                                                                        https://www.vox.com/polyarchy/2016/12/9/13898340/democracy-warning-signs  \n",
       "section                                                                                                                                                       Davos  \n",
       "publication                                                                                                                                                     Vox  "
      ]
     },
     "execution_count": 5,
     "metadata": {},
     "output_type": "execute_result"
    }
   ],
   "source": [
    "# checking data quality\n",
    "print('datatype = \"object\" means the column has string and/or missing values in it.')\n",
    "check_data(df_data)"
   ]
  },
  {
   "attachments": {},
   "cell_type": "markdown",
   "metadata": {},
   "source": [
    "**NOTE:<br>We have >60% of articles that are assigned to some section in a paper. So we can use some for model validation.**"
   ]
  },
  {
   "cell_type": "markdown",
   "metadata": {},
   "source": [
    "***\n",
    "## Section data"
   ]
  },
  {
   "cell_type": "code",
   "execution_count": 6,
   "metadata": {},
   "outputs": [
    {
     "name": "stdout",
     "output_type": "stream",
     "text": [
      "NOTE: section data is noisy!\n",
      "Number of sections per publication:\n"
     ]
    },
    {
     "data": {
      "text/html": [
       "<div>\n",
       "<style scoped>\n",
       "    .dataframe tbody tr th:only-of-type {\n",
       "        vertical-align: middle;\n",
       "    }\n",
       "\n",
       "    .dataframe tbody tr th {\n",
       "        vertical-align: top;\n",
       "    }\n",
       "\n",
       "    .dataframe thead th {\n",
       "        text-align: right;\n",
       "    }\n",
       "</style>\n",
       "<table border=\"1\" class=\"dataframe\">\n",
       "  <thead>\n",
       "    <tr style=\"text-align: right;\">\n",
       "      <th></th>\n",
       "      <th>count</th>\n",
       "      <th>mean</th>\n",
       "      <th>std</th>\n",
       "      <th>min</th>\n",
       "      <th>50%</th>\n",
       "      <th>60%</th>\n",
       "      <th>70%</th>\n",
       "      <th>80%</th>\n",
       "      <th>90%</th>\n",
       "      <th>95%</th>\n",
       "      <th>max</th>\n",
       "    </tr>\n",
       "  </thead>\n",
       "  <tbody>\n",
       "    <tr>\n",
       "      <th>section</th>\n",
       "      <td>26.0</td>\n",
       "      <td>299.0</td>\n",
       "      <td>907.633891</td>\n",
       "      <td>0.0</td>\n",
       "      <td>0.5</td>\n",
       "      <td>28.0</td>\n",
       "      <td>57.5</td>\n",
       "      <td>158.0</td>\n",
       "      <td>652.0</td>\n",
       "      <td>1163.5</td>\n",
       "      <td>4496.0</td>\n",
       "    </tr>\n",
       "  </tbody>\n",
       "</table>\n",
       "</div>"
      ],
      "text/plain": [
       "         count   mean         std  min  50%   60%   70%    80%    90%     95%  \\\n",
       "section   26.0  299.0  907.633891  0.0  0.5  28.0  57.5  158.0  652.0  1163.5   \n",
       "\n",
       "            max  \n",
       "section  4496.0  "
      ]
     },
     "execution_count": 6,
     "metadata": {},
     "output_type": "execute_result"
    }
   ],
   "source": [
    "print(\"NOTE: section data is noisy!\")\n",
    "print(\"Number of sections per publication:\")\n",
    "s = pd.DataFrame(df_data.groupby('publication')['section'].nunique())\n",
    "s.describe(percentiles=[0.6,0.7,0.8,0.9,0.95]).T"
   ]
  },
  {
   "cell_type": "code",
   "execution_count": 7,
   "metadata": {},
   "outputs": [
    {
     "name": "stdout",
     "output_type": "stream",
     "text": [
      "Number of articles per section:\n"
     ]
    },
    {
     "data": {
      "text/html": [
       "<div>\n",
       "<style scoped>\n",
       "    .dataframe tbody tr th:only-of-type {\n",
       "        vertical-align: middle;\n",
       "    }\n",
       "\n",
       "    .dataframe tbody tr th {\n",
       "        vertical-align: top;\n",
       "    }\n",
       "\n",
       "    .dataframe thead th {\n",
       "        text-align: right;\n",
       "    }\n",
       "</style>\n",
       "<table border=\"1\" class=\"dataframe\">\n",
       "  <thead>\n",
       "    <tr style=\"text-align: right;\">\n",
       "      <th></th>\n",
       "      <th>count</th>\n",
       "      <th>mean</th>\n",
       "      <th>std</th>\n",
       "      <th>min</th>\n",
       "      <th>50%</th>\n",
       "      <th>60%</th>\n",
       "      <th>70%</th>\n",
       "      <th>80%</th>\n",
       "      <th>90%</th>\n",
       "      <th>95%</th>\n",
       "      <th>max</th>\n",
       "    </tr>\n",
       "  </thead>\n",
       "  <tbody>\n",
       "    <tr>\n",
       "      <th>article</th>\n",
       "      <td>7509.0</td>\n",
       "      <td>233.507924</td>\n",
       "      <td>2852.148236</td>\n",
       "      <td>0.0</td>\n",
       "      <td>1.0</td>\n",
       "      <td>1.0</td>\n",
       "      <td>1.0</td>\n",
       "      <td>4.0</td>\n",
       "      <td>22.0</td>\n",
       "      <td>147.6</td>\n",
       "      <td>108650.0</td>\n",
       "    </tr>\n",
       "  </tbody>\n",
       "</table>\n",
       "</div>"
      ],
      "text/plain": [
       "          count        mean          std  min  50%  60%  70%  80%   90%  \\\n",
       "article  7509.0  233.507924  2852.148236  0.0  1.0  1.0  1.0  4.0  22.0   \n",
       "\n",
       "           95%       max  \n",
       "article  147.6  108650.0  "
      ]
     },
     "execution_count": 7,
     "metadata": {},
     "output_type": "execute_result"
    }
   ],
   "source": [
    "print(\"Number of articles per section:\")\n",
    "s = pd.DataFrame(df_data.groupby('section')['article'].count())\n",
    "s.describe(percentiles=[0.6,0.7,0.8,0.9,0.95]).T"
   ]
  },
  {
   "cell_type": "code",
   "execution_count": 8,
   "metadata": {},
   "outputs": [
    {
     "data": {
      "text/html": [
       "<div>\n",
       "<style scoped>\n",
       "    .dataframe tbody tr th:only-of-type {\n",
       "        vertical-align: middle;\n",
       "    }\n",
       "\n",
       "    .dataframe tbody tr th {\n",
       "        vertical-align: top;\n",
       "    }\n",
       "\n",
       "    .dataframe thead th {\n",
       "        text-align: right;\n",
       "    }\n",
       "</style>\n",
       "<table border=\"1\" class=\"dataframe\">\n",
       "  <thead>\n",
       "    <tr style=\"text-align: right;\">\n",
       "      <th></th>\n",
       "      <th>publication</th>\n",
       "      <th>section</th>\n",
       "      <th>number_of_sections</th>\n",
       "    </tr>\n",
       "  </thead>\n",
       "  <tbody>\n",
       "    <tr>\n",
       "      <th>0</th>\n",
       "      <td>Vox</td>\n",
       "      <td>NaN</td>\n",
       "      <td>0.0</td>\n",
       "    </tr>\n",
       "    <tr>\n",
       "      <th>1</th>\n",
       "      <td>Business Insider</td>\n",
       "      <td>NaN</td>\n",
       "      <td>0.0</td>\n",
       "    </tr>\n",
       "    <tr>\n",
       "      <th>2</th>\n",
       "      <td>Reuters</td>\n",
       "      <td>Davos</td>\n",
       "      <td>226.0</td>\n",
       "    </tr>\n",
       "    <tr>\n",
       "      <th>3</th>\n",
       "      <td>Reuters</td>\n",
       "      <td>World News</td>\n",
       "      <td>226.0</td>\n",
       "    </tr>\n",
       "    <tr>\n",
       "      <th>4</th>\n",
       "      <td>TMZ</td>\n",
       "      <td>NaN</td>\n",
       "      <td>0.0</td>\n",
       "    </tr>\n",
       "  </tbody>\n",
       "</table>\n",
       "</div>"
      ],
      "text/plain": [
       "        publication     section  number_of_sections\n",
       "0               Vox         NaN                 0.0\n",
       "1  Business Insider         NaN                 0.0\n",
       "2           Reuters       Davos               226.0\n",
       "3           Reuters  World News               226.0\n",
       "4               TMZ         NaN                 0.0"
      ]
     },
     "execution_count": 8,
     "metadata": {},
     "output_type": "execute_result"
    }
   ],
   "source": [
    "#calculate number_of_sections per publication\n",
    "df_data['number_of_sections'] = df_data.groupby('publication')['section'].transform(\"nunique\")\n",
    "df_data[['publication', 'section', 'number_of_sections']].head()"
   ]
  },
  {
   "cell_type": "code",
   "execution_count": 9,
   "metadata": {},
   "outputs": [
    {
     "name": "stdout",
     "output_type": "stream",
     "text": [
      "Take only publications with reasonable number of sections (10-50)\n",
      "Number of articles: 182958  out of 2688879\n",
      "\n",
      "Publications: {'People', 'Economist', 'Wired'}\n",
      "\n",
      "Sections:\n",
      " {nan, 'prospero', 'photo', 'business', 'trends', 'financial-indicators', 'movies', 'opinion', 'pets', 'home', 'bartleby', 'privacy', 'uncategorized', 'environment', 'gulliver', 'beauty', 'country', 'economic-and-financial-indicators', 'the-americas', 'the-world-in', 'babies', 'essay', 'europe', 'fashion', 'obituary', 'gear', 'graphic-detail', 'archive', 'premium', 'bodies', 'real-estate', 'special-report', 'parents', 'test', 'magazine', 'democracy-in-america', 'lifestyle', 'economic-indicators', 'international', 'china', 'transportation', 'ideas', 'middle-east-and-africa', 'entertainment', 'speakers-corner', 'free-exchange', 'design', 'christmas-specials', 'economics-brief', 'science', 'tv', 'charlemagnes-notebook', 'style', 'theater', 'united-states', 'deals', 'gadget-lab-podcast', 'books', 'finance-and-economics', 'open-future', 'tech', 'chica', 'podcasts', 'asia', 'backchannel', 'crime', 'technology-quarterly', 'reviews', 'artificial-intelligence', 'physics-math', 'social-media', 'politics', 'health', 'news', 'unknown', 'music', 'the-world-this-week', 'britain', 'social-media-stars', 'buttonwoods-notebook', 'article', 'letters', 'briefing', 'human-interest', 'erasmus', 'gadgetlab', 'leaders', 'kaffeeklatsch', 'national-affairs', 'films', 'travel', 'schools-brief', 'science-and-technology', 'the-world-if', 'royals', 'people-tv-ew', 'culture', 'outdoor', 'the-economist-explains', 'awards', 'phones', 'books-and-arts', 'security', 'game-theory', 'food', 'breaking-news', 'celebrity', 'sports', 'bagehots-notebook'}\n"
     ]
    },
    {
     "data": {
      "text/html": [
       "<div>\n",
       "<style scoped>\n",
       "    .dataframe tbody tr th:only-of-type {\n",
       "        vertical-align: middle;\n",
       "    }\n",
       "\n",
       "    .dataframe tbody tr th {\n",
       "        vertical-align: top;\n",
       "    }\n",
       "\n",
       "    .dataframe thead th {\n",
       "        text-align: right;\n",
       "    }\n",
       "</style>\n",
       "<table border=\"1\" class=\"dataframe\">\n",
       "  <thead>\n",
       "    <tr style=\"text-align: right;\">\n",
       "      <th></th>\n",
       "      <th>count</th>\n",
       "      <th>mean</th>\n",
       "      <th>std</th>\n",
       "      <th>min</th>\n",
       "      <th>50%</th>\n",
       "      <th>60%</th>\n",
       "      <th>70%</th>\n",
       "      <th>80%</th>\n",
       "      <th>90%</th>\n",
       "      <th>95%</th>\n",
       "      <th>max</th>\n",
       "    </tr>\n",
       "  </thead>\n",
       "  <tbody>\n",
       "    <tr>\n",
       "      <th>section</th>\n",
       "      <td>3.0</td>\n",
       "      <td>37.0</td>\n",
       "      <td>10.148892</td>\n",
       "      <td>28.0</td>\n",
       "      <td>35.0</td>\n",
       "      <td>37.6</td>\n",
       "      <td>40.2</td>\n",
       "      <td>42.8</td>\n",
       "      <td>45.4</td>\n",
       "      <td>46.7</td>\n",
       "      <td>48.0</td>\n",
       "    </tr>\n",
       "  </tbody>\n",
       "</table>\n",
       "</div>"
      ],
      "text/plain": [
       "         count  mean        std   min   50%   60%   70%   80%   90%   95%  \\\n",
       "section    3.0  37.0  10.148892  28.0  35.0  37.6  40.2  42.8  45.4  46.7   \n",
       "\n",
       "          max  \n",
       "section  48.0  "
      ]
     },
     "execution_count": 9,
     "metadata": {},
     "output_type": "execute_result"
    }
   ],
   "source": [
    "lower_thr = 10\n",
    "upper_thr = 50\n",
    "print(\"Take only publications with reasonable number of sections (%2d-%2d)\"%(lower_thr, upper_thr))\n",
    "\n",
    "df_test = df_data[(df_data['number_of_sections'] >= lower_thr) &\n",
    "                  (df_data['number_of_sections'] <= upper_thr)\n",
    "                 ]\n",
    "print(\"Number of articles:\", len(df_test), \" out of\", len(df_data))\n",
    "print(\"\\nPublications:\", set(df_test['publication']))\n",
    "print(\"\\nSections:\\n\", set(df_test['section']))\n",
    "s = pd.DataFrame(df_test.groupby('publication')['section'].nunique())\n",
    "s.describe(percentiles=[0.6,0.7,0.8,0.9,0.95]).T"
   ]
  },
  {
   "cell_type": "markdown",
   "metadata": {},
   "source": [
    "**Sections to consider:**\n",
    "- music\n",
    "- culture \n",
    "- schools-brief\n",
    "- business\n",
    "- awards\n",
    "- travel | outdoor\n",
    "- sports\n",
    "- real-estate\n",
    "- politics\n",
    "- tech\n",
    "- economic-indicators | finance-and-economics | economic-and-financial-indicators |  \n",
    "- health\n",
    "\n",
    "\n",
    "etc. (needs to be discussed)"
   ]
  },
  {
   "cell_type": "code",
   "execution_count": 10,
   "metadata": {},
   "outputs": [
    {
     "name": "stdout",
     "output_type": "stream",
     "text": [
      "Number of articles per section IN SELECTED PUBLICATIONS:\n"
     ]
    },
    {
     "data": {
      "text/html": [
       "<div>\n",
       "<style scoped>\n",
       "    .dataframe tbody tr th:only-of-type {\n",
       "        vertical-align: middle;\n",
       "    }\n",
       "\n",
       "    .dataframe tbody tr th {\n",
       "        vertical-align: top;\n",
       "    }\n",
       "\n",
       "    .dataframe thead th {\n",
       "        text-align: right;\n",
       "    }\n",
       "</style>\n",
       "<table border=\"1\" class=\"dataframe\">\n",
       "  <thead>\n",
       "    <tr style=\"text-align: right;\">\n",
       "      <th></th>\n",
       "      <th>count</th>\n",
       "      <th>mean</th>\n",
       "      <th>std</th>\n",
       "      <th>min</th>\n",
       "      <th>50%</th>\n",
       "      <th>60%</th>\n",
       "      <th>70%</th>\n",
       "      <th>80%</th>\n",
       "      <th>90%</th>\n",
       "      <th>95%</th>\n",
       "      <th>max</th>\n",
       "    </tr>\n",
       "  </thead>\n",
       "  <tbody>\n",
       "    <tr>\n",
       "      <th>article</th>\n",
       "      <td>108.0</td>\n",
       "      <td>1657.824074</td>\n",
       "      <td>3476.795855</td>\n",
       "      <td>0.0</td>\n",
       "      <td>268.0</td>\n",
       "      <td>540.2</td>\n",
       "      <td>1060.8</td>\n",
       "      <td>1990.0</td>\n",
       "      <td>4742.0</td>\n",
       "      <td>9108.05</td>\n",
       "      <td>24616.0</td>\n",
       "    </tr>\n",
       "  </tbody>\n",
       "</table>\n",
       "</div>"
      ],
      "text/plain": [
       "         count         mean          std  min    50%    60%     70%     80%  \\\n",
       "article  108.0  1657.824074  3476.795855  0.0  268.0  540.2  1060.8  1990.0   \n",
       "\n",
       "            90%      95%      max  \n",
       "article  4742.0  9108.05  24616.0  "
      ]
     },
     "execution_count": 10,
     "metadata": {},
     "output_type": "execute_result"
    }
   ],
   "source": [
    "print(\"Number of articles per section IN SELECTED PUBLICATIONS:\")\n",
    "s = pd.DataFrame(df_test.groupby('section')['article'].count())\n",
    "s.describe(percentiles=[0.6,0.7,0.8,0.9,0.95]).T"
   ]
  },
  {
   "cell_type": "markdown",
   "metadata": {},
   "source": [
    "## Text quality"
   ]
  },
  {
   "cell_type": "code",
   "execution_count": 11,
   "metadata": {},
   "outputs": [
    {
     "data": {
      "text/html": [
       "<div>\n",
       "<style scoped>\n",
       "    .dataframe tbody tr th:only-of-type {\n",
       "        vertical-align: middle;\n",
       "    }\n",
       "\n",
       "    .dataframe tbody tr th {\n",
       "        vertical-align: top;\n",
       "    }\n",
       "\n",
       "    .dataframe thead th {\n",
       "        text-align: right;\n",
       "    }\n",
       "</style>\n",
       "<table border=\"1\" class=\"dataframe\">\n",
       "  <thead>\n",
       "    <tr style=\"text-align: right;\">\n",
       "      <th></th>\n",
       "      <th>count</th>\n",
       "      <th>mean</th>\n",
       "      <th>std</th>\n",
       "      <th>min</th>\n",
       "      <th>1%</th>\n",
       "      <th>5%</th>\n",
       "      <th>25%</th>\n",
       "      <th>50%</th>\n",
       "      <th>75%</th>\n",
       "      <th>95%</th>\n",
       "      <th>99%</th>\n",
       "      <th>max</th>\n",
       "    </tr>\n",
       "  </thead>\n",
       "  <tbody>\n",
       "    <tr>\n",
       "      <th>text_length</th>\n",
       "      <td>2688879.0</td>\n",
       "      <td>3031.924927</td>\n",
       "      <td>3410.513377</td>\n",
       "      <td>0.0</td>\n",
       "      <td>0.0</td>\n",
       "      <td>161.0</td>\n",
       "      <td>1000.0</td>\n",
       "      <td>2264.0</td>\n",
       "      <td>3983.0</td>\n",
       "      <td>8280.0</td>\n",
       "      <td>14308.0</td>\n",
       "      <td>224981.0</td>\n",
       "    </tr>\n",
       "  </tbody>\n",
       "</table>\n",
       "</div>"
      ],
      "text/plain": [
       "                 count         mean          std  min   1%     5%     25%  \\\n",
       "text_length  2688879.0  3031.924927  3410.513377  0.0  0.0  161.0  1000.0   \n",
       "\n",
       "                50%     75%     95%      99%       max  \n",
       "text_length  2264.0  3983.0  8280.0  14308.0  224981.0  "
      ]
     },
     "execution_count": 11,
     "metadata": {},
     "output_type": "execute_result"
    }
   ],
   "source": [
    "# calculate text length of each article in symbols\n",
    "df_data[\"text_length\"] = df_data['article'].fillna(\"\").apply(len)\n",
    "\n",
    "#look at descriptive statistic\n",
    "pd.DataFrame(df_data[\"text_length\"].describe(percentiles=[0.01,0.05,0.25,0.5,0.75,0.95,0.99])).T"
   ]
  },
  {
   "cell_type": "code",
   "execution_count": 12,
   "metadata": {},
   "outputs": [
    {
     "data": {
      "text/plain": [
       "\"  Check out more of Paige Mehrer's work on her Tumblr and website.\""
      ]
     },
     "execution_count": 12,
     "metadata": {},
     "output_type": "execute_result"
    }
   ],
   "source": [
    "#Example: text with less than 150 symbols\n",
    "df_data[df_data[\"text_length\"] < 150]['article'].iloc[0]"
   ]
  },
  {
   "cell_type": "code",
   "execution_count": 13,
   "metadata": {},
   "outputs": [
    {
     "name": "stdout",
     "output_type": "stream",
     "text": [
      "minimum length:  0\n",
      "maximum  length:  224981\n",
      "\n",
      "10th percentile:  328.0 \n",
      "95th percentile:  8280.0\n",
      "\n",
      "\n",
      "Data size before deletion:  2688879\n",
      "Data size after deletion:   2285614\n"
     ]
    }
   ],
   "source": [
    "# delete reviews with length less than 10th percentile and more than 95th percentile of the sample\n",
    "#since they are suspiciously short or long\n",
    "#calculate length percentiles\n",
    "pct10 = df_data[\"text_length\"].quantile(0.10)\n",
    "pct95 = df_data[\"text_length\"].quantile(0.95)\n",
    "\n",
    "print('minimum length: ',df_data[\"text_length\"].min())\n",
    "print('maximum  length: ',df_data[\"text_length\"].max())\n",
    "print('\\n10th percentile: ', pct10, '\\n95th percentile: ', pct95)\n",
    "\n",
    "#delete suspicious values\n",
    "print('\\n\\nData size before deletion: ', len(df_data))\n",
    "df_data = df_data[(df_data[\"text_length\"] >= pct10) & (df_data[\"text_length\"] <= pct95)]\n",
    "print('Data size after deletion:  ', len(df_data))"
   ]
  },
  {
   "cell_type": "code",
   "execution_count": 14,
   "metadata": {},
   "outputs": [
    {
     "name": "stdout",
     "output_type": "stream",
     "text": [
      "Total number of observations:  2285614\n"
     ]
    },
    {
     "data": {
      "text/html": [
       "<div>\n",
       "<style scoped>\n",
       "    .dataframe tbody tr th:only-of-type {\n",
       "        vertical-align: middle;\n",
       "    }\n",
       "\n",
       "    .dataframe tbody tr th {\n",
       "        vertical-align: top;\n",
       "    }\n",
       "\n",
       "    .dataframe thead th {\n",
       "        text-align: right;\n",
       "    }\n",
       "</style>\n",
       "<table border=\"1\" class=\"dataframe\">\n",
       "  <thead>\n",
       "    <tr style=\"text-align: right;\">\n",
       "      <th></th>\n",
       "      <th>count</th>\n",
       "      <th>mean</th>\n",
       "      <th>std</th>\n",
       "      <th>min</th>\n",
       "      <th>1%</th>\n",
       "      <th>5%</th>\n",
       "      <th>25%</th>\n",
       "      <th>50%</th>\n",
       "      <th>75%</th>\n",
       "      <th>95%</th>\n",
       "      <th>99%</th>\n",
       "      <th>max</th>\n",
       "    </tr>\n",
       "  </thead>\n",
       "  <tbody>\n",
       "    <tr>\n",
       "      <th>text_length</th>\n",
       "      <td>2285614.0</td>\n",
       "      <td>2799.668501</td>\n",
       "      <td>1877.527771</td>\n",
       "      <td>328.0</td>\n",
       "      <td>362.0</td>\n",
       "      <td>505.0</td>\n",
       "      <td>1343.0</td>\n",
       "      <td>2388.0</td>\n",
       "      <td>3841.0</td>\n",
       "      <td>6684.0</td>\n",
       "      <td>7875.0</td>\n",
       "      <td>8280.0</td>\n",
       "    </tr>\n",
       "  </tbody>\n",
       "</table>\n",
       "</div>"
      ],
      "text/plain": [
       "                 count         mean          std    min     1%     5%     25%  \\\n",
       "text_length  2285614.0  2799.668501  1877.527771  328.0  362.0  505.0  1343.0   \n",
       "\n",
       "                50%     75%     95%     99%     max  \n",
       "text_length  2388.0  3841.0  6684.0  7875.0  8280.0  "
      ]
     },
     "execution_count": 14,
     "metadata": {},
     "output_type": "execute_result"
    }
   ],
   "source": [
    "# look at descriptive statistics\n",
    "print(\"Total number of observations: \", len(df_data))\n",
    "pd.DataFrame(df_data[\"text_length\"].describe(percentiles=[0.01,0.05,0.25,0.5,0.75,0.95,0.99])).T"
   ]
  },
  {
   "cell_type": "markdown",
   "metadata": {},
   "source": [
    "**NOTE:** Articles with missing text were deleted from the data"
   ]
  },
  {
   "cell_type": "code",
   "execution_count": 15,
   "metadata": {},
   "outputs": [
    {
     "name": "stderr",
     "output_type": "stream",
     "text": [
      "/Users/tatiana/opt/anaconda3/lib/python3.7/site-packages/ipykernel_launcher.py:17: SettingWithCopyWarning: \n",
      "A value is trying to be set on a copy of a slice from a DataFrame.\n",
      "Try using .loc[row_indexer,col_indexer] = value instead\n",
      "\n",
      "See the caveats in the documentation: https://pandas.pydata.org/pandas-docs/stable/user_guide/indexing.html#returning-a-view-versus-a-copy\n"
     ]
    },
    {
     "data": {
      "text/plain": [
       "en    4569\n",
       "es       2\n",
       "fr       1\n",
       "Name: article_language, dtype: int64"
      ]
     },
     "execution_count": 15,
     "metadata": {},
     "output_type": "execute_result"
    }
   ],
   "source": [
    "#test languages of every 500th article\n",
    "def define_language(df, column):\n",
    "    # detect languages for each text in the column\n",
    "    lang_list = []\n",
    "    for i in range(len(df)):\n",
    "        text = df[column].iloc[i]\n",
    "        try:\n",
    "            language = detect(text)\n",
    "        except:\n",
    "            language = \"error\"\n",
    "        lang_list.append(language)\n",
    "\n",
    "    return lang_list\n",
    "\n",
    "#############################################################\n",
    "df_test = df_data.iloc[::500]\n",
    "df_test['article_language'] = define_language(df_test, \"article\") \n",
    "df_test['article_language'].value_counts()"
   ]
  },
  {
   "cell_type": "markdown",
   "metadata": {},
   "source": [
    "## Date"
   ]
  },
  {
   "cell_type": "code",
   "execution_count": 16,
   "metadata": {},
   "outputs": [
    {
     "data": {
      "text/html": [
       "<div>\n",
       "<style scoped>\n",
       "    .dataframe tbody tr th:only-of-type {\n",
       "        vertical-align: middle;\n",
       "    }\n",
       "\n",
       "    .dataframe tbody tr th {\n",
       "        vertical-align: top;\n",
       "    }\n",
       "\n",
       "    .dataframe thead th {\n",
       "        text-align: right;\n",
       "    }\n",
       "</style>\n",
       "<table border=\"1\" class=\"dataframe\">\n",
       "  <thead>\n",
       "    <tr style=\"text-align: right;\">\n",
       "      <th></th>\n",
       "      <th>date</th>\n",
       "      <th>py_date</th>\n",
       "    </tr>\n",
       "  </thead>\n",
       "  <tbody>\n",
       "    <tr>\n",
       "      <th>0</th>\n",
       "      <td>2016-12-09 18:31:00</td>\n",
       "      <td>2016-12-09 18:31:00</td>\n",
       "    </tr>\n",
       "    <tr>\n",
       "      <th>1</th>\n",
       "      <td>2016-10-07 21:26:46</td>\n",
       "      <td>2016-10-07 21:26:46</td>\n",
       "    </tr>\n",
       "    <tr>\n",
       "      <th>2</th>\n",
       "      <td>2018-01-26 00:00:00</td>\n",
       "      <td>2018-01-26 00:00:00</td>\n",
       "    </tr>\n",
       "    <tr>\n",
       "      <th>3</th>\n",
       "      <td>2019-06-27 00:00:00</td>\n",
       "      <td>2019-06-27 00:00:00</td>\n",
       "    </tr>\n",
       "    <tr>\n",
       "      <th>4</th>\n",
       "      <td>2016-01-27 00:00:00</td>\n",
       "      <td>2016-01-27 00:00:00</td>\n",
       "    </tr>\n",
       "  </tbody>\n",
       "</table>\n",
       "</div>"
      ],
      "text/plain": [
       "                  date             py_date\n",
       "0  2016-12-09 18:31:00 2016-12-09 18:31:00\n",
       "1  2016-10-07 21:26:46 2016-10-07 21:26:46\n",
       "2  2018-01-26 00:00:00 2018-01-26 00:00:00\n",
       "3  2019-06-27 00:00:00 2019-06-27 00:00:00\n",
       "4  2016-01-27 00:00:00 2016-01-27 00:00:00"
      ]
     },
     "execution_count": 16,
     "metadata": {},
     "output_type": "execute_result"
    }
   ],
   "source": [
    "# get article posting date in python format where possible \n",
    "#NOTE: if string can not be converted it is replaced with missing value NaT\n",
    "df_data['py_date'] = pd.to_datetime(df_data['date'], format='%Y-%m-%d %H:%M:%S', errors='coerce')\n",
    "df_data[['date', 'py_date']].head()"
   ]
  },
  {
   "cell_type": "code",
   "execution_count": 17,
   "metadata": {},
   "outputs": [
    {
     "data": {
      "text/plain": [
       "count                 2285614\n",
       "unique                 508348\n",
       "top       2020-03-12 00:00:00\n",
       "freq                     3019\n",
       "first     2016-01-01 00:00:00\n",
       "last      2020-04-02 00:00:00\n",
       "Name: py_date, dtype: object"
      ]
     },
     "execution_count": 17,
     "metadata": {},
     "output_type": "execute_result"
    }
   ],
   "source": [
    "df_data['py_date'].describe()"
   ]
  },
  {
   "cell_type": "code",
   "execution_count": 18,
   "metadata": {},
   "outputs": [
    {
     "name": "stdout",
     "output_type": "stream",
     "text": [
      "Number of articles per year:\n"
     ]
    },
    {
     "data": {
      "text/plain": [
       "2019    564104\n",
       "2017    546798\n",
       "2016    522057\n",
       "2018    486419\n",
       "2020    166236\n",
       "Name: py_year, dtype: int64"
      ]
     },
     "execution_count": 18,
     "metadata": {},
     "output_type": "execute_result"
    }
   ],
   "source": [
    "print(\"Number of articles per year:\")\n",
    "df_data['py_year'] = df_data['py_date'].dt.year\n",
    "df_data['py_year'].value_counts()"
   ]
  },
  {
   "cell_type": "code",
   "execution_count": 19,
   "metadata": {},
   "outputs": [
    {
     "name": "stdout",
     "output_type": "stream",
     "text": [
      "Number of articles per month:\n"
     ]
    },
    {
     "data": {
      "text/plain": [
       "1     219070\n",
       "2     217288\n",
       "3     247325\n",
       "4     172133\n",
       "5     184217\n",
       "6     185828\n",
       "7     182018\n",
       "8     176892\n",
       "9     176896\n",
       "10    192772\n",
       "11    179272\n",
       "12    151903\n",
       "Name: py_month, dtype: int64"
      ]
     },
     "execution_count": 19,
     "metadata": {},
     "output_type": "execute_result"
    }
   ],
   "source": [
    "print(\"Number of articles per month:\")\n",
    "df_data['py_month'] = df_data['py_date'].dt.month\n",
    "df_data['py_month'].value_counts().sort_index()"
   ]
  },
  {
   "cell_type": "code",
   "execution_count": 20,
   "metadata": {},
   "outputs": [
    {
     "name": "stdout",
     "output_type": "stream",
     "text": [
      "Number of months per year:\n",
      "py_year\n",
      "2016    12\n",
      "2017    12\n",
      "2018    12\n",
      "2019    12\n",
      "2020     4\n",
      "Name: py_month, dtype: int64\n",
      "\n",
      "Covered months in 2020: {1, 2, 3, 4}\n"
     ]
    }
   ],
   "source": [
    "print(\"Number of months per year:\")\n",
    "print(df_data.groupby(\"py_year\")['py_month'].nunique().sort_index())\n",
    "\n",
    "print(\"\\nCovered months in 2020:\", set(df_data[df_data['py_year'] == 2020]['py_month']))"
   ]
  },
  {
   "cell_type": "code",
   "execution_count": 21,
   "metadata": {},
   "outputs": [
    {
     "data": {
      "text/plain": [
       "{1, 2, 3, 4}"
      ]
     },
     "execution_count": 21,
     "metadata": {},
     "output_type": "execute_result"
    }
   ],
   "source": [
    "set(df_data[df_data['py_year'] == 2020]['py_month'])"
   ]
  },
  {
   "cell_type": "markdown",
   "metadata": {},
   "source": [
    "***\n",
    "# Conclusions:\n",
    "- We have enough data with predefined labels to test Topic Modeling algorithm.\n",
    "- Only first 4 months are covered in 2020 (if it has any importance to capture Covid-19 news)\n",
    "- There are non-English articles! (need to clean that)\n"
   ]
  }
 ],
 "metadata": {
  "kernelspec": {
   "display_name": "Python 3",
   "language": "python",
   "name": "python3"
  },
  "language_info": {
   "codemirror_mode": {
    "name": "ipython",
    "version": 3
   },
   "file_extension": ".py",
   "mimetype": "text/x-python",
   "name": "python",
   "nbconvert_exporter": "python",
   "pygments_lexer": "ipython3",
   "version": "3.7.4"
  },
  "toc": {
   "base_numbering": 1,
   "nav_menu": {},
   "number_sections": true,
   "sideBar": true,
   "skip_h1_title": false,
   "title_cell": "Table of Contents",
   "title_sidebar": "Contents",
   "toc_cell": false,
   "toc_position": {
    "height": "calc(100% - 180px)",
    "left": "10px",
    "top": "150px",
    "width": "305.455px"
   },
   "toc_section_display": true,
   "toc_window_display": true
  }
 },
 "nbformat": 4,
 "nbformat_minor": 2
}
